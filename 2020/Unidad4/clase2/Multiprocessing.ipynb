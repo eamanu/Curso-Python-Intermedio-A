{
 "cells": [
  {
   "cell_type": "markdown",
   "metadata": {},
   "source": [
    "# Concurrencia vs Paralelismo\n",
    "\n",
    "Concurrency signfica que hay 2 o más procesos ejecutandose dentro del mismo periodo de tiempo. Paralelismo signfica que hay 2 o más procesos ejecutandose en el mismo momento. Paralelismo es un caso especial de concurrencia.\n"
   ]
  },
  {
   "cell_type": "markdown",
   "metadata": {},
   "source": [
    "# Multiprocessing\n",
    "\n",
    "Como ya vimos en la clase pasada, hilos en Python no está diseñado para funcionar en computadoras con más de un core, por ello GIL es necesario porque Python por sí solo no es \"thread-safe\". \n",
    "\n",
    "Multiprocessing nos permite crear programas que puedan correr concurrentemente (bypaseando GIL) y usar todos los core de la CPU. Multiprocessing es sintácticamente parecido a Threading pero implementados de manera diferente. Multiprocessing le da a cada proceso su propio interprete de Python cada uno con su propio GIL.\n"
   ]
  },
  {
   "cell_type": "code",
   "execution_count": 5,
   "metadata": {},
   "outputs": [
    {
     "name": "stdout",
     "output_type": "stream",
     "text": [
      "0\n",
      "1\n",
      "2\n",
      "3\n",
      "4\n"
     ]
    }
   ],
   "source": [
    "import multiprocessing\n",
    "def spawn(i):\n",
    "    print(i)\n",
    "\n",
    "if __name__ == '__main__':\n",
    "    for i in range(5):\n",
    "        p = multiprocessing.Process(target=spawn, args=(i,))\n",
    "        p.start()\n",
    "        p.join()"
   ]
  },
  {
   "cell_type": "markdown",
   "metadata": {},
   "source": [
    "Cuando usar multiprocessing:\n",
    "* Cuando se usa mucho consumo de CPU.\n",
    "* Cuando tiene una gran cantidad de uso de red o entrada/salida\n",
    "* Si se está usando UI."
   ]
  },
  {
   "cell_type": "code",
   "execution_count": null,
   "metadata": {},
   "outputs": [],
   "source": []
  }
 ],
 "metadata": {
  "kernelspec": {
   "display_name": "Python 3",
   "language": "python",
   "name": "python3"
  },
  "language_info": {
   "codemirror_mode": {
    "name": "ipython",
    "version": 3
   },
   "file_extension": ".py",
   "mimetype": "text/x-python",
   "name": "python",
   "nbconvert_exporter": "python",
   "pygments_lexer": "ipython3",
   "version": "3.8.6"
  }
 },
 "nbformat": 4,
 "nbformat_minor": 4
}
