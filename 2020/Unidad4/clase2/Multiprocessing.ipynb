{
 "cells": [
  {
   "cell_type": "markdown",
   "metadata": {},
   "source": [
    "# Concurrencia vs Paralelismo\n",
    "\n",
    "Concurrency signfica que hay 2 o más procesos ejecutandose dentro del mismo periodo de tiempo. Paralelismo signfica que hay 2 o más procesos ejecutandose en el mismo momento. Paralelismo es un caso especial de concurrencia.\n"
   ]
  },
  {
   "cell_type": "markdown",
   "metadata": {},
   "source": [
    "### Proceso\n",
    "Es lo que llama un programa que es cargado en memoria. Tiene su propio espacio de memoria.\n",
    "### Hilo\n",
    "Un hilo es una unidad de ejecución dentro de un proceso. Un proceso puede tener varios hilos ejecutandonse. Los hilos comparten el espacio de memoria del proceso.\n",
    "### Multithreading\n",
    "Es un técnica dónde existen multiples hilos dentro del proceso, para diferentes tareas, en el mismo espacio de tiempo. Esto da la ilusión de que los hilos se ejecutan en paralelo, pero son gestionados por GIL, que evita que los hilos se ejecuten al mismo tiempo.\n",
    "### Multiprocessing\n",
    "Es una téncica dónde hay paralelismo. Multiples procesos corren en diferentes cores del CPU, que no comportanten recursos entre ellos. Cada proceso tiene su espacio de memoria.\n"
   ]
  },
  {
   "cell_type": "markdown",
   "metadata": {},
   "source": [
    "# Multiprocessing\n",
    "\n",
    "Como ya vimos en la clase pasada, hilos en Python no está diseñado para funcionar en computadoras con más de un core, por ello GIL es necesario porque Python por sí solo no es \"thread-safe\". \n",
    "\n",
    "Multiprocessing nos permite crear programas que puedan correr concurrentemente (bypaseando GIL) y usar todos los core de la CPU. Multiprocessing es sintácticamente parecido a Threading pero implementados de manera diferente. Multiprocessing le da a cada proceso su propio interprete de Python cada uno con su propio GIL.\n"
   ]
  },
  {
   "cell_type": "code",
   "execution_count": 2,
   "metadata": {},
   "outputs": [
    {
     "name": "stdout",
     "output_type": "stream",
     "text": [
      "0\n",
      "1\n",
      "2\n",
      "3\n",
      "4\n"
     ]
    }
   ],
   "source": [
    "import multiprocessing\n",
    "\n",
    "def worker(i):\n",
    "    print(i)    \n",
    "    \n",
    "if __name__ == '__main__':\n",
    "    for i in range(5):\n",
    "        p = multiprocessing.Process(target=worker, args=(i,))\n",
    "        p.start()\n",
    "        p.join()"
   ]
  },
  {
   "cell_type": "markdown",
   "metadata": {},
   "source": [
    "Cuando usar multiprocessing:\n",
    "* Cuando se usa mucho consumo de CPU.\n",
    "* Cuando tiene una gran cantidad de uso de red o entrada/salida\n",
    "* Si se está usando UI."
   ]
  },
  {
   "cell_type": "markdown",
   "metadata": {},
   "source": [
    "## Process\n",
    "\n",
    "Se pueden crear procesos heredando de la clase Process, y el proceso comienza a ejecutarse cuando se llama a la función `start()`, parar modificar el funcionamiento del proceso, sobreescribimos `run()` al igual que con `Thread`. Esperamos que finalice con `join()`.\n",
    "\n",
    "También tenemos los métodos: `is_alive()`, `terminate()`, `kill()`, `close()`."
   ]
  },
  {
   "cell_type": "code",
   "execution_count": 3,
   "metadata": {},
   "outputs": [],
   "source": [
    "from multiprocessing import Process\n",
    "\n",
    "class Worker(Process):\n",
    "    def __init__(self, q):\n",
    "        self.q = q\n",
    "        super(Worker, self).__init__()\n",
    "    def run(self):\n",
    "        self.q.put('local hello')\n"
   ]
  },
  {
   "cell_type": "markdown",
   "metadata": {},
   "source": [
    "## Intercambio de objetos entre procesos\n",
    "\n",
    "En `multiprocessing` hay dos tipos de comunicación.\n",
    "\n",
    "### Queue\n",
    "\n",
    "Es muy parecido a `queue.Queue`.\n"
   ]
  },
  {
   "cell_type": "code",
   "execution_count": 5,
   "metadata": {},
   "outputs": [
    {
     "name": "stdout",
     "output_type": "stream",
     "text": [
      "[42, None, 'hello']\n"
     ]
    }
   ],
   "source": [
    "from multiprocessing import Process, Queue\n",
    "\n",
    "def worker(q):\n",
    "    q.put([42, None, 'hello'])\n",
    "\n",
    "if __name__ == '__main__':\n",
    "    q = Queue()\n",
    "    p = Process(target=worker, args=(q,))\n",
    "    p.start()\n",
    "    print(q.get())    # prints \"[42, None, 'hello']\"\n",
    "    p.join()"
   ]
  },
  {
   "cell_type": "markdown",
   "metadata": {},
   "source": [
    "## Pipes\n",
    "\n",
    "La función `Pipe()` devuelve un par de conexión (las dos puntas de una conexión) que nos permite comunicar procesos.\n",
    "\n"
   ]
  },
  {
   "cell_type": "code",
   "execution_count": 11,
   "metadata": {},
   "outputs": [
    {
     "name": "stdout",
     "output_type": "stream",
     "text": [
      "[42, None, 'hello', True]\n"
     ]
    }
   ],
   "source": [
    "from multiprocessing import Process, Pipe\n",
    "\n",
    "def f(conn):\n",
    "    conn.send([42, None, 'hello', True])\n",
    "    conn.close()\n",
    "\n",
    "def f2(conn):\n",
    "    print(conn.recv())\n",
    "\n",
    "if __name__ == '__main__':\n",
    "    parent_conn, child_conn = Pipe()\n",
    "    \n",
    "    p = Process(target=f, args=(child_conn,))\n",
    "    \n",
    "    p2 = Process(target=f2, args=(parent_conn,))\n",
    "    \n",
    "    p.start(); p2.start()\n",
    "    # print(parent_conn.recv())   # prints \"[42, None, 'hello']\"\n",
    "    p.join(); p2.join()\n"
   ]
  },
  {
   "cell_type": "markdown",
   "metadata": {},
   "source": [
    "# Sincronización entre procesos.\n",
    "\n",
    "Al igual que Threading tenemos primitivas de sincronización. "
   ]
  },
  {
   "cell_type": "code",
   "execution_count": 6,
   "metadata": {},
   "outputs": [
    {
     "name": "stdout",
     "output_type": "stream",
     "text": [
      "hello world 0\n",
      "hello world 1\n",
      "hello world 2\n",
      "hello world 3\n",
      "hello world 4\n",
      "hello world 5\n",
      "hello world 6\n",
      "hello world 7\n",
      "hello world 8\n",
      "hello world 9\n"
     ]
    }
   ],
   "source": [
    "from multiprocessing import Process, Lock\n",
    "\n",
    "def f(l, i):\n",
    "    l.acquire()\n",
    "    try:\n",
    "        print('hello world', i)\n",
    "    finally:\n",
    "        l.release()\n",
    "\n",
    "if __name__ == '__main__':\n",
    "    lock = Lock()\n",
    "\n",
    "    for num in range(10):\n",
    "        Process(target=f, args=(lock, num)).start()\n"
   ]
  },
  {
   "cell_type": "markdown",
   "metadata": {},
   "source": [
    "# Algunas funciones interesantes\n",
    "\n",
    "* active_children()\n",
    "* cpu_count()\n",
    "* current_process()\n",
    "* parent_process() (python3.8)"
   ]
  }
 ],
 "metadata": {
  "kernelspec": {
   "display_name": "Python 3",
   "language": "python",
   "name": "python3"
  },
  "language_info": {
   "codemirror_mode": {
    "name": "ipython",
    "version": 3
   },
   "file_extension": ".py",
   "mimetype": "text/x-python",
   "name": "python",
   "nbconvert_exporter": "python",
   "pygments_lexer": "ipython3",
   "version": "3.8.6"
  }
 },
 "nbformat": 4,
 "nbformat_minor": 4
}
