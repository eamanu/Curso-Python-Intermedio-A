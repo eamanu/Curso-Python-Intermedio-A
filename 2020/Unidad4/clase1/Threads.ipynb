{
 "cells": [
  {
   "cell_type": "markdown",
   "metadata": {},
   "source": [
    "# Hilo\n",
    "\n",
    "Es una pieza de código, muy pequeña y compacta que puede ejecutar un sistema operativo. Los hilos de ejecución comparten recursos, como memoria, archivos abiertos, etc.\n",
    "\n",
    "Un hilo es un tarea que puede ser \"ejecutada al mismo tiempo\" que otra tarea. Los hilos pueden tener diferentes estados: \"Ejecutando\", \"Listo\" y \"bloqueado\". Los hilos suelen estar dentro de los procesos.\n",
    "\n",
    "El multi-threading es una técnica que permite desacoplar las tareas que no son secuencialmente dependientes.\n",
    "\n",
    "Hay dos tipos de hilos:\n",
    " * en el espacio de kernel\n",
    " * en el espacio de usuario\n",
    " \n",
    "## Ventajas del multithread\n",
    "* puede correr más rapido en computadoras con múltiples CPUs\n",
    "* Los hilos de un proceso comparten memoria. Y pueden compartir variables globales.\n",
    "\n",
    "\n",
    "Para manejar hilos en Python tenemos el módulo *threading*\n",
    "\n",
    "\n",
    "# Threading\n",
    "\n",
    "En python existe el objeto Thread, que es una clase que representa un hilo de control. Se puede crear de dos maneras, pasando una función (callable object) o sobreescribiendo `run()`. Cuando se hereda de Thread solo se debe sobreeescribir `__init__(self)` y `run()`. \n",
    "\n",
    "Para que la ejecución del hilo comience se debe llamar al método `start()`, este invoca a `run()`. Se puede utilizar el método `is_alive()` para saber si un hilo está vivo o no.\n",
    "\n",
    "El método `join()` bloquea la llamada al hilo que termina."
   ]
  },
  {
   "cell_type": "code",
   "execution_count": 2,
   "metadata": {},
   "outputs": [
    {
     "name": "stdout",
     "output_type": "stream",
     "text": [
      "thread 0 sleeps for 5 seconds\n",
      "thread 1 sleeps for 5 seconds\n",
      "thread 2 sleeps for 5 seconds\n",
      "thread 3 sleeps for 5 seconds\n",
      "thread 4 sleeps for 5 seconds\n",
      "thread 5 sleeps for 5 seconds\n",
      "thread 6 sleeps for 5 seconds\n",
      "thread 7 sleeps for 5 seconds\n",
      "thread 8 sleeps for 5 seconds\n",
      "thread 9 sleeps for 5 seconds\n",
      "thread 3 woke up\n",
      "thread 0 woke up\n",
      "thread 1 woke up\n",
      "thread 4 woke up\n",
      "thread 2 woke up\n",
      "thread 8 woke up\n",
      "thread 5 woke up\n",
      "thread 7 woke up\n",
      "thread 6 woke up\n",
      "thread 9 woke up\n"
     ]
    }
   ],
   "source": [
    "import time\n",
    "from threading import Thread\n",
    "\n",
    "def sleeper(i):\n",
    "    print (f\"thread {i} sleeps for 5 seconds\")\n",
    "    time.sleep(5)\n",
    "    print (f\"thread {i} woke up\")\n",
    "\n",
    "for i in range(10):\n",
    "    t = Thread(target=sleeper, args=(i,))\n",
    "    t.start()"
   ]
  },
  {
   "cell_type": "code",
   "execution_count": null,
   "metadata": {},
   "outputs": [],
   "source": []
  }
 ],
 "metadata": {
  "kernelspec": {
   "display_name": "Python 3",
   "language": "python",
   "name": "python3"
  },
  "language_info": {
   "codemirror_mode": {
    "name": "ipython",
    "version": 3
   },
   "file_extension": ".py",
   "mimetype": "text/x-python",
   "name": "python",
   "nbconvert_exporter": "python",
   "pygments_lexer": "ipython3",
   "version": "3.8.6"
  }
 },
 "nbformat": 4,
 "nbformat_minor": 4
}
