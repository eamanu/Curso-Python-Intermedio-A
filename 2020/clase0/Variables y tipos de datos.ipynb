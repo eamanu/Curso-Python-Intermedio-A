{
 "cells": [
  {
   "cell_type": "markdown",
   "metadata": {},
   "source": [
    "# Bienvenidos la curso de Python Intermedio A"
   ]
  },
  {
   "cell_type": "markdown",
   "metadata": {},
   "source": [
    "## Repaso rápido de lo básico de Python\n",
    "\n",
    "Lo primero que debemos hacer es decargar python. Lo podemos hacer de la página oficial o desde el source.\n",
    "\n",
    "[Página oficial](https://www.python.org/downloads/)\n",
    "\n",
    "[Source code](https://github.com/python/cpython)\n",
    "\n",
    "La documentación que vamos a usar en todo el curso es la documentación oficial de Python(https://docs.python.org/es/3/"
   ]
  },
  {
   "cell_type": "markdown",
   "metadata": {},
   "source": [
    "### Comentarios"
   ]
  },
  {
   "cell_type": "code",
   "execution_count": 1,
   "metadata": {},
   "outputs": [
    {
     "data": {
      "text/plain": [
       "'comentario\\nde varias \\nlineas\\n.... sigue...'"
      ]
     },
     "execution_count": 1,
     "metadata": {},
     "output_type": "execute_result"
    }
   ],
   "source": [
    "# comentario de una linea\n",
    "\n",
    "\"\"\"\n",
    "comentario\n",
    "de varias \n",
    "lineas\n",
    ".... sigue...\n",
    "\"\"\""
   ]
  },
  {
   "cell_type": "markdown",
   "metadata": {},
   "source": [
    "### Variables y tipos de datos"
   ]
  },
  {
   "cell_type": "code",
   "execution_count": 2,
   "metadata": {},
   "outputs": [],
   "source": [
    "variable1 = \"esto es un string\" # 'esto es un string'\n",
    "variable2 = 123  # integer\n",
    "variable3 = 2.4  # float\n",
    "variable4 = True  # o False boolean\n",
    "variable5 = None  # Nada o null\n",
    "\n",
    "variable_lista = [1, \"hola\", 2.3, False]\n",
    "variable_tupla = (1, \"2\", 2.3, False)\n",
    "variable_dict = {\"key1\": 2, \"key2\": {\"otra_key\": [1,32,\"2\"]}}\n",
    "variable_set = {\"a\", \"b\", \"c\"}"
   ]
  },
  {
   "cell_type": "code",
   "execution_count": 4,
   "metadata": {},
   "outputs": [
    {
     "name": "stdout",
     "output_type": "stream",
     "text": [
      "<class 'int'>\n",
      "<class 'str'>\n"
     ]
    }
   ],
   "source": [
    "variables = hola  # int... mypy \n",
    "print(type(variables))\n",
    "\n",
    "variables = \"hola como estan\"\n",
    "print(type(variables))"
   ]
  },
  {
   "cell_type": "code",
   "execution_count": 20,
   "metadata": {},
   "outputs": [
    {
     "name": "stdout",
     "output_type": "stream",
     "text": [
      "17\n"
     ]
    }
   ],
   "source": [
    "a = \"esto es un string\"\n",
    "print(len(a))"
   ]
  },
  {
   "cell_type": "code",
   "execution_count": 24,
   "metadata": {},
   "outputs": [
    {
     "name": "stdout",
     "output_type": "stream",
     "text": [
      "[(2+3j), 'hola', 2.3, False]\n"
     ]
    }
   ],
   "source": [
    "variable_lista = [1, \"hola\", 2.3, False, [3,4,5]]\n",
    "variable_lista[0] = 2+3j\n",
    "del variable_lista[-1]\n",
    "print(variable_lista)"
   ]
  },
  {
   "cell_type": "code",
   "execution_count": 31,
   "metadata": {},
   "outputs": [
    {
     "name": "stdout",
     "output_type": "stream",
     "text": [
      "(1, '2', 2.3, False)\n"
     ]
    }
   ],
   "source": [
    "variable_tupla = (1, \"2\", 2.3, False)\n",
    "print(variable_tupla)"
   ]
  },
  {
   "cell_type": "code",
   "execution_count": 38,
   "metadata": {},
   "outputs": [
    {
     "name": "stdout",
     "output_type": "stream",
     "text": [
      "{'key1': 2, 'key2': {'otra_key': [1, 32, '2']}, 'key3': [0, 9, 8], 'key4': [(2+3j), 'hola', 2.3, False]}\n"
     ]
    }
   ],
   "source": [
    "variable_dict = {\"key1\": 2, \"key2\": {\"otra_key\": [1,32,\"2\"]}}\n",
    "variable_dict[\"key3\"] = [0,9,8]\n",
    "variable_dict[\"key4\"] = variable_lista\n",
    "print(variable_dict)"
   ]
  },
  {
   "cell_type": "code",
   "execution_count": 43,
   "metadata": {
    "scrolled": true
   },
   "outputs": [
    {
     "name": "stdout",
     "output_type": "stream",
     "text": [
      "{'a', 'c', 'b'}\n"
     ]
    }
   ],
   "source": [
    "variable_set = {\"a\", \"b\", \"c\", \"c\", \"a\"}\n",
    "variable = [\"a\", \"b\", \"c\", \"c\", \"a\"]\n",
    "print(set(variable))"
   ]
  },
  {
   "cell_type": "markdown",
   "metadata": {},
   "source": [
    "### Operadores aritméticos\n",
    "\n",
    "    + Suma\n",
    "    - Resta\n",
    "    * Multiplicación\n",
    "    ** Exponente\n",
    "    / División\n",
    "    // División entera\n",
    "    % Módulo"
   ]
  },
  {
   "cell_type": "markdown",
   "metadata": {},
   "source": [
    "### Tipos de datos mutables e inmutables\n",
    "Algunos tipos de datos en Python son mutables que significan que su valor puede cambiar en tiempo de ejecución. Los inmutables, no pueden cambiar.\n",
    "\n",
    "#TODO subir video"
   ]
  },
  {
   "cell_type": "code",
   "execution_count": null,
   "metadata": {},
   "outputs": [],
   "source": []
  }
 ],
 "metadata": {
  "kernelspec": {
   "display_name": "Python 3",
   "language": "python",
   "name": "python3"
  },
  "language_info": {
   "codemirror_mode": {
    "name": "ipython",
    "version": 3
   },
   "file_extension": ".py",
   "mimetype": "text/x-python",
   "name": "python",
   "nbconvert_exporter": "python",
   "pygments_lexer": "ipython3",
   "version": "3.8.5"
  }
 },
 "nbformat": 4,
 "nbformat_minor": 4
}
