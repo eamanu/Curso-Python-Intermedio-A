{
 "cells": [
  {
   "cell_type": "markdown",
   "metadata": {},
   "source": [
    "# POO\n",
    "Este es un paradigma de programación que cambia la forma de procesar datos. Con la POO ya no tenemos una secuencia de comandos sino que tenemos ahora entidades u objetos, que tienen un comportamiento y características, y permite la interacción entre objetos, por ejmplo mediante el envío de mensajes. Las tres características principales de la POO son: Encapsulación, Polimorfismo y Herencia.\n"
   ]
  },
  {
   "cell_type": "markdown",
   "metadata": {},
   "source": [
    "## Clases\n",
    "Representa una abstracción una generalización. La clase es una encapsulación porque constituye una encapsula los datos que conforman los objetos como los procedimientos que permiten manipularlos.\n",
    "\n",
    "## Objetos\n",
    "\n",
    "Cada objeto tiene una identidad, un tipo y un valor. \n",
    "Un objeto representa alguna entidad de la vida real, y que pertenecen al problema con el que nos estamos enfrentando, y con el que podemos interactuar.\n"
   ]
  },
  {
   "cell_type": "code",
   "execution_count": 10,
   "metadata": {},
   "outputs": [
    {
     "name": "stdout",
     "output_type": "stream",
     "text": [
      "2\n",
      "2\n"
     ]
    }
   ],
   "source": [
    "# espacio para mostrar codigo en vivo\n",
    "\n",
    "# acceder a los attr y methods '.'\n",
    "class Personas:\n",
    "    def __init__(self, c_bancaria, u_session):\n",
    "        self.cuenta_bancaria = c_bancaria\n",
    "        self.ultima_session = u_session\n",
    "    \n",
    "    @staticmethod\n",
    "    def iniciar():\n",
    "        # codigo para iniciar sesion ....\n",
    "        pass\n",
    "    \n",
    "    def get_cuenta_bancaria(self):\n",
    "        return self.cuenta_bancaria\n",
    "        \n",
    "\n",
    "persona = Personas(2, 6)\n",
    "print(persona.cuenta_bancaria)\n",
    "print(persona.get_cuenta_bancaria())"
   ]
  },
  {
   "cell_type": "markdown",
   "metadata": {},
   "source": [
    "# Módulos\n",
    "\n",
    "En Python, cada uno de nuestros archivos .py se denominan módulos. Estos módulos, a\n",
    "la vez, pueden formar parte de paquetes. Un paquete, es una carpeta que contiene\n",
    "archivos .py.\n"
   ]
  },
  {
   "cell_type": "code",
   "execution_count": 19,
   "metadata": {},
   "outputs": [],
   "source": [
    "# espacio para practicar"
   ]
  },
  {
   "cell_type": "markdown",
   "metadata": {},
   "source": [
    "## Ejemplo\n",
    "### datetime\n",
    "\n",
    "https://docs.python.org/es/3.8/library/datetime.html\n"
   ]
  },
  {
   "cell_type": "code",
   "execution_count": 11,
   "metadata": {},
   "outputs": [
    {
     "name": "stdout",
     "output_type": "stream",
     "text": [
      "1\n",
      "9999\n"
     ]
    }
   ],
   "source": [
    "import datetime\n",
    "\n",
    "print(datetime.MINYEAR)\n",
    "print(datetime.MAXYEAR)\n"
   ]
  },
  {
   "cell_type": "markdown",
   "metadata": {},
   "source": [
    "#### timedelta"
   ]
  },
  {
   "cell_type": "code",
   "execution_count": 12,
   "metadata": {},
   "outputs": [
    {
     "name": "stdout",
     "output_type": "stream",
     "text": [
      "64 days, 8:05:56.000010\n"
     ]
    }
   ],
   "source": [
    "from datetime import timedelta\n",
    "delta = timedelta(\n",
    "    days=50,\n",
    "    seconds=27,\n",
    "    microseconds=10,\n",
    "    milliseconds=29000,\n",
    "    minutes=5,\n",
    "    hours=8,\n",
    "    weeks=2)\n",
    "# Only days, seconds, and microseconds remain\n",
    "print(delta)"
   ]
  },
  {
   "cell_type": "code",
   "execution_count": 15,
   "metadata": {},
   "outputs": [
    {
     "name": "stdout",
     "output_type": "stream",
     "text": [
      "0:01:07\n",
      "67.0\n",
      "67.0\n"
     ]
    }
   ],
   "source": [
    "delta1 = timedelta(seconds=57)\n",
    "delta2 = timedelta(seconds=10)\n",
    "\n",
    "print(delta1 + delta2)\n",
    "\n",
    "d = (delta1 + delta2)\n",
    "print(d.total_seconds())\n",
    "\n",
    "print((delta1 + delta2).total_seconds())"
   ]
  },
  {
   "cell_type": "markdown",
   "metadata": {},
   "source": [
    "#### date"
   ]
  },
  {
   "cell_type": "code",
   "execution_count": 17,
   "metadata": {},
   "outputs": [
    {
     "name": "stdout",
     "output_type": "stream",
     "text": [
      "2020-08-12\n"
     ]
    }
   ],
   "source": [
    "d = datetime.date(2020, 8, 12)\n",
    "print(d)"
   ]
  },
  {
   "cell_type": "markdown",
   "metadata": {},
   "source": [
    "#### datetime"
   ]
  },
  {
   "cell_type": "code",
   "execution_count": 9,
   "metadata": {},
   "outputs": [],
   "source": [
    "d = datetime.datetime(1596, 2, 3, hour=4, minute=54, second=2)\n"
   ]
  },
  {
   "cell_type": "code",
   "execution_count": 18,
   "metadata": {},
   "outputs": [],
   "source": [
    "c = datetime.datetime.strptime('2020-10-14_22:45', '%Y-%m-%d_%H:%M')"
   ]
  },
  {
   "cell_type": "code",
   "execution_count": 19,
   "metadata": {},
   "outputs": [
    {
     "data": {
      "text/plain": [
       "datetime.datetime(2020, 10, 14, 22, 45)"
      ]
     },
     "execution_count": 19,
     "metadata": {},
     "output_type": "execute_result"
    }
   ],
   "source": [
    "c"
   ]
  },
  {
   "cell_type": "code",
   "execution_count": 22,
   "metadata": {},
   "outputs": [],
   "source": [
    "h = datetime.datetime.strftime(c, 'Fecha:%d/%m/%Y Hora: %H:%M:%S')"
   ]
  },
  {
   "cell_type": "code",
   "execution_count": 23,
   "metadata": {},
   "outputs": [
    {
     "name": "stdout",
     "output_type": "stream",
     "text": [
      "Fecha:14/10/2020 Hora: 22:45:00\n"
     ]
    }
   ],
   "source": [
    "print(h)"
   ]
  },
  {
   "cell_type": "markdown",
   "metadata": {},
   "source": [
    "# Ejercicios\n",
    "\n",
    "* Crear una función que reciba una fecha en formato humano `DD/MM/YYYY HH:MM` e imprima Dia al que corresponda esa fecha\n",
    "* Programa que me diga si un año es bisiesto.\n",
    "* Juego de Piedra papel y tijeras."
   ]
  },
  {
   "cell_type": "code",
   "execution_count": null,
   "metadata": {},
   "outputs": [],
   "source": []
  }
 ],
 "metadata": {
  "kernelspec": {
   "display_name": "Python 3",
   "language": "python",
   "name": "python3"
  },
  "language_info": {
   "codemirror_mode": {
    "name": "ipython",
    "version": 3
   },
   "file_extension": ".py",
   "mimetype": "text/x-python",
   "name": "python",
   "nbconvert_exporter": "python",
   "pygments_lexer": "ipython3",
   "version": "3.8.5"
  }
 },
 "nbformat": 4,
 "nbformat_minor": 4
}
