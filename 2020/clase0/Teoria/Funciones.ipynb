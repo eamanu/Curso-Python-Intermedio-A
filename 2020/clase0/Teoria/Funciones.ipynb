{
 "cells": [
  {
   "cell_type": "markdown",
   "metadata": {},
   "source": [
    "# Funciones\n",
    "Podemos crear funciones, usando la palabra reservada `def` y podemos setear parámetros dentro del paréntesis. \n",
    "Una función puede no tener parámetros."
   ]
  },
  {
   "cell_type": "code",
   "execution_count": 4,
   "metadata": {},
   "outputs": [
    {
     "name": "stdout",
     "output_type": "stream",
     "text": [
      "Hola a todos!!!\n",
      "hola Emmanuel\n",
      "hola 2\n"
     ]
    }
   ],
   "source": [
    "def print_mensaje():\n",
    "    print(\"Hola a todos!!!\") \n",
    "\n",
    "def print_hello(nombre: str) -> str:\n",
    "    print(f\"hola {nombre}\")\n",
    "\n",
    "\n",
    "print_mensaje()    \n",
    "print_hello(\"Emmanuel\")\n",
    "print_hello(2)\n"
   ]
  },
  {
   "cell_type": "markdown",
   "metadata": {},
   "source": [
    "Cuando se envían argumentos a una función, y estos se reciben los parámetros en el orden que fueron defindos, estos son `argumentos por posición`"
   ]
  },
  {
   "cell_type": "code",
   "execution_count": 5,
   "metadata": {},
   "outputs": [
    {
     "name": "stdout",
     "output_type": "stream",
     "text": [
      "6\n"
     ]
    }
   ],
   "source": [
    "def foo(a, b) -> float:\n",
    "    return a * b\n",
    "\n",
    "res = foo(2, 3)\n",
    "print(res)"
   ]
  },
  {
   "cell_type": "markdown",
   "metadata": {},
   "source": [
    "También se puede enviar los parámetros con sus nombres, ya no estamos obligados a llamar a la función respetando el orden con el que fueron definidos"
   ]
  },
  {
   "cell_type": "code",
   "execution_count": 14,
   "metadata": {},
   "outputs": [
    {
     "name": "stdout",
     "output_type": "stream",
     "text": [
      "6\n"
     ]
    }
   ],
   "source": [
    "res = foo(b=3, a=2)\n",
    "print(res)"
   ]
  },
  {
   "cell_type": "markdown",
   "metadata": {},
   "source": [
    "Podemos usar parámetros por defecto, dónde le asignamos el valor del parámetro en la definción de la función, de esta forma, ese argumento ya va a tener un valor, por lo que podemos ignorarlo durante la llamada"
   ]
  },
  {
   "cell_type": "code",
   "execution_count": 15,
   "metadata": {},
   "outputs": [
    {
     "name": "stdout",
     "output_type": "stream",
     "text": [
      "6\n",
      "12\n",
      "12\n"
     ]
    }
   ],
   "source": [
    "def bar(a, b=3):\n",
    "    return a * b\n",
    "\n",
    "print(bar(2))\n",
    "print(bar(3, 4))\n",
    "print(bar(b=3, a=4))\n"
   ]
  },
  {
   "cell_type": "code",
   "execution_count": 13,
   "metadata": {
    "scrolled": true
   },
   "outputs": [
    {
     "name": "stdout",
     "output_type": "stream",
     "text": [
      "6\n",
      "2\n",
      "3\n"
     ]
    }
   ],
   "source": [
    "def bar(a, b=3):\n",
    "    return a * b, a, b\n",
    "\n",
    "\n",
    "res1, res2, res3 = bar(2)\n",
    "\n",
    "print(res1)\n",
    "print(res2)\n",
    "print(res3)"
   ]
  },
  {
   "cell_type": "markdown",
   "metadata": {},
   "source": [
    "## Ejemplo"
   ]
  },
  {
   "cell_type": "code",
   "execution_count": 6,
   "metadata": {},
   "outputs": [
    {
     "name": "stdout",
     "output_type": "stream",
     "text": [
      "Cual es el precio del producto100\n",
      "El impuesto es de $21.0\n"
     ]
    }
   ],
   "source": [
    "def iva():\n",
    "    iva_percent = 0.21\n",
    "    precio = int(input(\"Cual es el precio del producto\"))\n",
    "    print(f\"El impuesto es de ${precio * iva_percent}\")\n",
    "    \n",
    "iva()"
   ]
  },
  {
   "cell_type": "code",
   "execution_count": 8,
   "metadata": {},
   "outputs": [
    {
     "name": "stdout",
     "output_type": "stream",
     "text": [
      "El impuesto es de $35.0\n"
     ]
    }
   ],
   "source": [
    "def iva(precio, iva_percent = 0.21):\n",
    "    return precio * iva_percent\n",
    "\n",
    "impuesto_a_pagar = iva(100, 0.35)\n",
    "\n",
    "print(f\"El impuesto es de ${impuesto_a_pagar}\")"
   ]
  },
  {
   "cell_type": "code",
   "execution_count": null,
   "metadata": {},
   "outputs": [],
   "source": [
    "# magick methods"
   ]
  }
 ],
 "metadata": {
  "kernelspec": {
   "display_name": "Python 3",
   "language": "python",
   "name": "python3"
  },
  "language_info": {
   "codemirror_mode": {
    "name": "ipython",
    "version": 3
   },
   "file_extension": ".py",
   "mimetype": "text/x-python",
   "name": "python",
   "nbconvert_exporter": "python",
   "pygments_lexer": "ipython3",
   "version": "3.8.5"
  }
 },
 "nbformat": 4,
 "nbformat_minor": 4
}
