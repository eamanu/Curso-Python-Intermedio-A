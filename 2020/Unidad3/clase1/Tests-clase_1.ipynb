{
 "cells": [
  {
   "cell_type": "markdown",
   "metadata": {},
   "source": [
    "# Tests\n",
    "\n",
    "Testear el código es muy importante. Es un muy buen hábito escribir tests en paralelo al código.\n",
    "\n",
    "Los Unit tests son un método de testing en el cual cada unidad de código es puesto bajo test para determinar que funcionan tal cómo se se lo espera y que nuevos cambios no han modificado su funcionamiento.\n",
    "\n",
    "Se espera que los desarrolladores escriban tests automáticos para asegurar que todas las partes del código y los tests en sí, tienen el comportamiento esperado.\n",
    "\n",
    "El framework que viene dentro del estándar de Python es `unittest`.\n",
    "\n",
    "Algunas reglas básicas de testing:\n",
    "* Un unit test se debe centrar en una pequeña parte del código.\n",
    "* Cada test unitario debe ser independiente, a veces necesitamos que todos los tests realizan tareas inciales y luego finales, en Python lo hacemos con setUp() y tearDown()\n",
    "* Intentar que los tests corran rápido.\n",
    "* Siempre es buena idea crear un hook para que se ejecuten los tests antes de realizar un push.\n",
    "* Cuando se debuggea es buena idea escribir un test unitario que reproduzca el bug.\n",
    "* Usar nombres largos y descriptivos en las funciones. Por ejemplo si estamos testeando la función `sqrt()` un test se podría llamar. `test_square_of_number()` o `test_square_negative_number()`."
   ]
  },
  {
   "cell_type": "markdown",
   "metadata": {},
   "source": [
    "## `unittest`\n",
    "Módulo que viene incluído en la biblioteca estándar de Python.\n",
    "\n",
    "Para crear un Caso de Test creamos una clase que herede de `unittest.TestCase`\n"
   ]
  },
  {
   "cell_type": "code",
   "execution_count": 17,
   "metadata": {},
   "outputs": [
    {
     "name": "stderr",
     "output_type": "stream",
     "text": [
      ".\n",
      "----------------------------------------------------------------------\n",
      "Ran 1 test in 0.002s\n",
      "\n",
      "OK\n"
     ]
    }
   ],
   "source": [
    "import unittest \n",
    "\n",
    "\n",
    "class MyTest(unittest.TestCase):\n",
    "    def test(self):\n",
    "        pass\n",
    "\n",
    "if __name__ == '__main__':\n",
    "    # unittest.main()\n",
    "    unittest.main(argv=['first-arg-is-ignored'], exit=False)\n",
    "    "
   ]
  },
  {
   "cell_type": "markdown",
   "metadata": {},
   "source": [
    "La clase TestCase provee varios assert:\n",
    "* assertEqual(a, b)\n",
    "* assertNoEqual(a, b)\n",
    "* assertTrue(x)\n",
    "* assertFalse(x)\n",
    "* assertIs(a, b)\n",
    "* assertIsNot(a, b)\n",
    "* assertIsNone(a, b)\n",
    "* assertIsNotNote(a, b)\n",
    "* assertIn(a, b)\n",
    "* assertNotIn(a, b)\n",
    "* assertIsInstance(a, b)\n",
    "* assertIsNotInstance(a, b)"
   ]
  },
  {
   "cell_type": "markdown",
   "metadata": {},
   "source": [
    "También es posible chear excepciones, warnings y mensajes de logs.\n",
    "* assertRaises(exe, func, \\*args, \\*\\*kwargs)\n",
    "* assertRaisesRegex(exe, r, func, \\*args, \\*\\*kwargs)\n",
    "* assertWarns(exe, func, \\*args, \\*\\*kwargs)\n",
    "* assertWarnsRegex(exe, r, func, \\*args, \\*\\*kwargs)\n",
    "* assertLogs(logger, level)\n",
    "\n"
   ]
  },
  {
   "cell_type": "code",
   "execution_count": 3,
   "metadata": {},
   "outputs": [],
   "source": [
    "# Espacio para ejemplos."
   ]
  },
  {
   "cell_type": "markdown",
   "metadata": {},
   "source": [
    "También tenemos otros métodos que permiten hacer checkeos más específicos.\n",
    "\n",
    "* assertAlmostEqual(a, b) -> round(a-b, 7) == 0\n",
    "* assertNotAlmostEqual(a, b) -> round(a-b, 7) != 0\n",
    "* assertGreater(a, b) -> a > b\n",
    "* assertGreaterEqual(a, b) -> a >= b\n",
    "* assertLess(a, b) -> a < b\n",
    "* assertLessEqual(a, b) -> a <= b"
   ]
  },
  {
   "cell_type": "code",
   "execution_count": 4,
   "metadata": {},
   "outputs": [],
   "source": [
    "# Espacio para ejemplos."
   ]
  }
 ],
 "metadata": {
  "kernelspec": {
   "display_name": "Python 3",
   "language": "python",
   "name": "python3"
  },
  "language_info": {
   "codemirror_mode": {
    "name": "ipython",
    "version": 3
   },
   "file_extension": ".py",
   "mimetype": "text/x-python",
   "name": "python",
   "nbconvert_exporter": "python",
   "pygments_lexer": "ipython3",
   "version": "3.8.6"
  }
 },
 "nbformat": 4,
 "nbformat_minor": 4
}
