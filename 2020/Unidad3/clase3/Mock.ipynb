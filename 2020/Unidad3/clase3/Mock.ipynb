{
 "cells": [
  {
   "cell_type": "markdown",
   "metadata": {},
   "source": [
    "# Mock\n",
    "\n",
    "Mock es simular el comportamiento de algo. ¿Por qué vamos a necesitar simular? Por ejemplo que para probar una parte de código necesitamos tener funcionando un entorno que es dificil hacer el set up de eso; o si necesitamos usar sistemas externos, o si una operación demora mucho tiempo.\n",
    "\n",
    "Mock en unittest -> https://docs.python.org/3/library/unittest.mock.html\n",
    "\n",
    "Mock en pytest -> https://pypi.org/project/pytest-mock/ (pip install pytest-mock)"
   ]
  },
  {
   "cell_type": "code",
   "execution_count": null,
   "metadata": {},
   "outputs": [],
   "source": [
    "import time\n",
    "\n",
    "def compute(x):\n",
    "    response = expensive_api_call()\n",
    "    return response + x\n",
    "\n",
    "\n",
    "def expensive_api_call():\n",
    "    time.sleep(1000)\n",
    "    return 666\n",
    "\n",
    "\n",
    "def test_compute():\n",
    "    expected = 124\n",
    "    actual = compute(1)\n",
    "    assert expected == actual\n"
   ]
  },
  {
   "cell_type": "markdown",
   "metadata": {},
   "source": [
    "El objeto más importante que nos brinda mock (de Python) es el objeto MagicMock. Con esto se puede simular:\n",
    " \n",
    " * simular una constante\n",
    " * simular un objeto con atributos\n",
    " * simular una función\n",
    " \n",
    " ## Simular una constante\n",
    " "
   ]
  },
  {
   "cell_type": "code",
   "execution_count": null,
   "metadata": {},
   "outputs": [],
   "source": [
    "# src/calcs.py\n",
    "CONSTANT = 4\n",
    "\n",
    "def func():\n",
    "    return CONSTANT * 2\n",
    "\n",
    "# tests/test_calcs.py\n",
    "from src import calcs\n",
    "from src.calcs import func\n",
    "\n",
    "def test_mock_constant(mocker):\n",
    "    mocker.patch.object(calcs, 'CONSTANT', 10)\n",
    "    assert 20 == func()\n",
    "    "
   ]
  },
  {
   "cell_type": "markdown",
   "metadata": {},
   "source": [
    "## Simular una Función"
   ]
  },
  {
   "cell_type": "code",
   "execution_count": 3,
   "metadata": {},
   "outputs": [],
   "source": [
    "def test_slow_function_mocked_api_call(mocker):\n",
    "    mocker.patch(\n",
    "        'src.main.api_call',\n",
    "        return_value=5\n",
    "    )\n",
    "\n",
    "    expected = \"Transaction sucessfull\"\n",
    "    actual = slow_function()\n",
    "    assert expected == actual\n"
   ]
  },
  {
   "cell_type": "markdown",
   "metadata": {},
   "source": [
    "## Simular una clase"
   ]
  },
  {
   "cell_type": "code",
   "execution_count": null,
   "metadata": {},
   "outputs": [],
   "source": [
    "class Dataset:\n",
    "    def __init__(self):\n",
    "        self.data = None\n",
    "\n",
    "    def load_data(self):\n",
    "        time.sleep(4)\n",
    "        self.data = 'slow data'\n",
    "\n",
    "def test_mocking_class_method(mocker):\n",
    "    expected = 'xyz'\n",
    "\n",
    "    def mock_load(self):\n",
    "        return 'xyz'\n",
    "\n",
    "    mocker.patch(\n",
    "        'mock_examples.main.Dataset.load_data',\n",
    "        mock_load\n",
    "    )\n",
    "    actual = slow_dataset()\n",
    "    assert expected == actual\n"
   ]
  },
  {
   "cell_type": "markdown",
   "metadata": {},
   "source": [
    "## Simular un objeto tipo diccionario\n"
   ]
  },
  {
   "cell_type": "code",
   "execution_count": 5,
   "metadata": {},
   "outputs": [],
   "source": [
    "# src/calcs.py\n",
    "foo = {'hola': 2}\n",
    "\n",
    "\n",
    "def func_dict():\n",
    "    return foo['hola']\n",
    "\n",
    "\n",
    "# tests/test_calcs.py\n",
    "def test_mock_dict(mocker):\n",
    "    mocker.patch.dict('src.calcs.foo', {'chau': 10})\n",
    "    assert 2 == func_dict()"
   ]
  },
  {
   "cell_type": "markdown",
   "metadata": {},
   "source": [
    "# Ciclo de desarrollo conducido por pruebas TDD"
   ]
  }
 ],
 "metadata": {
  "kernelspec": {
   "display_name": "Python 3",
   "language": "python",
   "name": "python3"
  },
  "language_info": {
   "codemirror_mode": {
    "name": "ipython",
    "version": 3
   },
   "file_extension": ".py",
   "mimetype": "text/x-python",
   "name": "python",
   "nbconvert_exporter": "python",
   "pygments_lexer": "ipython3",
   "version": "3.8.6"
  }
 },
 "nbformat": 4,
 "nbformat_minor": 4
}
