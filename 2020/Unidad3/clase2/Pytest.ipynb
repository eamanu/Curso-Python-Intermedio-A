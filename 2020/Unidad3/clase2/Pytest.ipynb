{
 "cells": [
  {
   "cell_type": "markdown",
   "metadata": {},
   "source": [
    "# pytest\n",
    "\n",
    "pytest es un framework que nos va a permitir escribir pequeños tests para porciones pequeñas de código y además nos permitirá escalar para realizar tests más complejos y de aplicaciones más complejas\n"
   ]
  },
  {
   "cell_type": "code",
   "execution_count": 1,
   "metadata": {},
   "outputs": [],
   "source": [
    "def suma_1(x):\n",
    "    return x + 1\n",
    "\n",
    "def test_suma_1(x):\n",
    "    assert suma_1(10) == 11"
   ]
  },
  {
   "cell_type": "markdown",
   "metadata": {},
   "source": [
    "Que es lo que nos da pytest:\n",
    "* No hace falta usar los self.assert*.\n",
    "* Información detallada de los errores.\n",
    "* Auto discovery de tests.\n",
    "* Se pueden escribir fixtures modulares.\n",
    "* Se puede seguir escribiendo tests usando `unittest`\n",
    "* Una gran cantidad de plugins (+315)\n"
   ]
  },
  {
   "cell_type": "markdown",
   "metadata": {},
   "source": [
    "Documentación: https://docs.pytest.org/"
   ]
  },
  {
   "cell_type": "markdown",
   "metadata": {},
   "source": [
    "## Instalación\n",
    "\n",
    "```shell\n",
    "pip3 install -U pytest\n",
    "```\n",
    "\n",
    "Luego ver si se instaló correctamente\n",
    "\n",
    "```shell\n",
    "pytest --version\n",
    "```"
   ]
  },
  {
   "cell_type": "markdown",
   "metadata": {},
   "source": [
    "## Assert errores\n",
    "\n",
    "Se puede usar el método raises para captar todas las cosas que se \"raiseen\""
   ]
  },
  {
   "cell_type": "code",
   "execution_count": 4,
   "metadata": {},
   "outputs": [],
   "source": [
    "import pytest\n",
    "\n",
    "def f():\n",
    "    raise ValueError(\"error\")\n",
    "    \n",
    "def test_f():\n",
    "    with pytest.raises(ValueError):\n",
    "        f()"
   ]
  },
  {
   "cell_type": "markdown",
   "metadata": {},
   "source": [
    "## Agrupar tests\n",
    "Podemos agrupar los tests en clases. Esto puede ser beneficioso por:\n",
    "* Organización de tests.\n",
    "* Compartir Fixtures solo en una clase en particular\n",
    "* Aplicar *marks* a nivel de clases. "
   ]
  },
  {
   "cell_type": "code",
   "execution_count": 6,
   "metadata": {},
   "outputs": [],
   "source": [
    "class TestEjemplo:\n",
    "    def test_f(self):\n",
    "        with pytest.raises(ValueError):\n",
    "            f()\n",
    "    def test_suma_1(self):\n",
    "        assert 11 == test_suma_1(10)"
   ]
  },
  {
   "cell_type": "markdown",
   "metadata": {},
   "source": [
    "## Fixtures\n",
    "\n",
    "Hay muchas fixtures que ya viene creadas dentro del framework (built-in). La lista de builtin la podemos ver acá: https://docs.pytest.org/en/stable/builtin.html"
   ]
  },
  {
   "cell_type": "code",
   "execution_count": 8,
   "metadata": {},
   "outputs": [],
   "source": [
    "def test_tmpdir_fixture(tmpdir):\n",
    "    print(tmpdir)\n",
    "    assert 0"
   ]
  },
  {
   "cell_type": "markdown",
   "metadata": {},
   "source": [
    "Los `test fixtures` hacen un setup del sistema e inicializa los tests (https://en.wikipedia.org/wiki/Test_fixture#Software). Esto se hace para lograr que los tests sean confiables, repetibles, sencillos de leer, sencillo de escrbir, etc.\n",
    "\n",
    "En pytest se utiliza el decorador: `@pytest.fixture`"
   ]
  },
  {
   "cell_type": "code",
   "execution_count": 9,
   "metadata": {},
   "outputs": [],
   "source": [
    "# Ejemplo (usar smtp)"
   ]
  },
  {
   "cell_type": "markdown",
   "metadata": {},
   "source": [
    "## Marcas\n",
    "\n",
    "Las marcas son utilizadas para agregar metadata a los tets. Existen marcas creadas dentro del pytest que las pueden ver en https://docs.pytest.org/en/stable/reference.html#marks-ref\n",
    "\n",
    "Los más utilizados son:\n",
    "* usefixture\n",
    "* skip\n",
    "* skipif\n",
    "* xfail\n",
    "* parametrize"
   ]
  },
  {
   "cell_type": "code",
   "execution_count": 11,
   "metadata": {},
   "outputs": [],
   "source": [
    "# Ejemplo"
   ]
  }
 ],
 "metadata": {
  "kernelspec": {
   "display_name": "Python 3",
   "language": "python",
   "name": "python3"
  },
  "language_info": {
   "codemirror_mode": {
    "name": "ipython",
    "version": 3
   },
   "file_extension": ".py",
   "mimetype": "text/x-python",
   "name": "python",
   "nbconvert_exporter": "python",
   "pygments_lexer": "ipython3",
   "version": "3.8.6"
  }
 },
 "nbformat": 4,
 "nbformat_minor": 4
}
