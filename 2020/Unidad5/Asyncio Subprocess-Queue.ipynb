{
 "cells": [
  {
   "cell_type": "markdown",
   "metadata": {},
   "source": [
    "# Subprocess\n",
    "\n",
    "Asyncio también nos permite crear y gestionar sub-procesos. Con Asyncio, se puede ejecutar un comando de *shell*.\n",
    "\n"
   ]
  },
  {
   "cell_type": "code",
   "execution_count": null,
   "metadata": {},
   "outputs": [],
   "source": [
    "import asyncio\n",
    "\n",
    "async def run(cmd):\n",
    "    proc = await asyncio.create_subprocess_shell(\n",
    "        cmd,\n",
    "        stdout=asyncio.subprocess.PIPE,\n",
    "        stderr=asyncio.subprocess.PIPE)\n",
    "\n",
    "    stdout, stderr = await proc.communicate()\n",
    "\n",
    "    print(f'[{cmd!r} exited with {proc.returncode}]')\n",
    "    if stdout:\n",
    "        print(f'[stdout]\\n{stdout.decode()}')\n",
    "    if stderr:\n",
    "        print(f'[stderr]\\n{stderr.decode()}')\n",
    "\n",
    "# asyncio.run(run('ls /home'))"
   ]
  },
  {
   "cell_type": "markdown",
   "metadata": {},
   "source": [
    "# Queue\n",
    "Las colas asyncio son diseñadas para ser similares a clases del módulo `queue`. Sin embargo las colas de asyncio no son seguras para los hilos, son diseñadas para funcionar específicamente con código async/await.\n"
   ]
  },
  {
   "cell_type": "code",
   "execution_count": null,
   "metadata": {},
   "outputs": [],
   "source": [
    "import asyncio\n",
    "import random\n",
    "import time\n",
    "\n",
    "\n",
    "async def worker(name, queue):\n",
    "    while True:\n",
    "        # Get a \"work item\" out of the queue.\n",
    "        sleep_for = await queue.get()\n",
    "\n",
    "        # Sleep for the \"sleep_for\" seconds.\n",
    "        await asyncio.sleep(sleep_for)\n",
    "\n",
    "        # Notify the queue that the \"work item\" has been processed.\n",
    "        queue.task_done()\n",
    "\n",
    "        print(f'{name} has slept for {sleep_for:.2f} seconds')\n",
    "\n",
    "\n",
    "async def main():\n",
    "    queue = asyncio.Queue()\n",
    "\n",
    "    # Se genera tiempos aleatorios y los coloca en la pila\n",
    "    total_sleep_time = 0\n",
    "    \n",
    "    for _ in range(20):\n",
    "        sleep_for = random.uniform(0.05, 1.0)\n",
    "        total_sleep_time += sleep_for\n",
    "        queue.put_nowait(sleep_for)\n",
    "\n",
    "    # Creo 3 tasks para procesar la cola concurrentemente\n",
    "    tasks = []\n",
    "    for i in range(3):\n",
    "        task = asyncio.create_task(worker(f'worker-{i}', queue))\n",
    "        tasks.append(task)\n",
    "\n",
    "    # Esperar hasta que la cola es completamente procesadas\n",
    "    started_at = time.monotonic()\n",
    "    await queue.join()\n",
    "    total_slept_for = time.monotonic() - started_at\n",
    "\n",
    "    # cancelamos las tasks\n",
    "    for task in tasks:\n",
    "        task.cancel()\n",
    "    # Esperamos hasta que todas las tareas estén canceladas.\n",
    "    await asyncio.gather(*tasks, return_exceptions=True)\n",
    "\n",
    "    print('====')\n",
    "    print(f'3 workers slept in parallel for {total_slept_for:.2f} seconds')\n",
    "    print(f'total expected sleep time: {total_sleep_time:.2f} seconds')\n",
    "\n",
    "\n",
    "# asyncio.run(main())"
   ]
  }
 ],
 "metadata": {
  "kernelspec": {
   "display_name": "Python 3",
   "language": "python",
   "name": "python3"
  },
  "language_info": {
   "codemirror_mode": {
    "name": "ipython",
    "version": 3
   },
   "file_extension": ".py",
   "mimetype": "text/x-python",
   "name": "python",
   "nbconvert_exporter": "python",
   "pygments_lexer": "ipython3",
   "version": "3.8.6"
  }
 },
 "nbformat": 4,
 "nbformat_minor": 4
}
