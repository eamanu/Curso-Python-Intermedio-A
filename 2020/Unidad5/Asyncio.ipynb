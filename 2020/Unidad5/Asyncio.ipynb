{
 "cells": [
  {
   "cell_type": "markdown",
   "metadata": {},
   "source": [
    "# Asyncio\n",
    "\n",
    "El módulo asyncio proporciona herramientas para construir aplicaciones concurrentes que utilizan co-rutinas.\n",
    "\n",
    "Recordando el módulo *threading* implementa concurrencia a través de hilos de aplicación, por el otro lado *multiprocessing* implementa la concurrencia usando procesos del sistema. *Asyncio* utiliza un enfoque de un solo hilo y un solo proceso que están dentro de una aplicación, en algún momento estos procesos necesitan leer o escribir datos, y que bloquearían a la aplicación si no se utiliza Asyncio. *Asyncio* también permite crear:\n",
    "\n",
    "* programas que se ejecuten en un futuro específico\n",
    "* brinda la posiblidad de que una co-rutina se ejecute después de otra\n",
    "* manejar señales del sistema\n",
    "* reconocer otros eventos.\n",
    "\n",
    "La mayoría de los programas que usan otros modelos de concurrencia, se escriben de manera lineal y se deja la gestión de los procesos y el tiempo de ejecución al lenguaje de programación o al sistema operativo. `Asyncio` requiere que el código de la aplicación maneje explicitamente los cambios de contexto.\n",
    "\n",
    "`Asyncio` brinda un bucle de eventos, para registrar la pieza del código a  ejecutar. Por ejemplo, un servidor en red abre los conectores y luego los registra para recibir avisos cuando eventos ocurren en ellos. El bucle de eventos alerta al código del servidor cuando hay una nueva conexión entrante o cuando hay datos para leer. Se espera que el código de la aplicación ceda el control nuevamente después de un corto período de tiempo cuando no se puede hacer más trabajo en el contexto actual. Por ejemplo, si no hay más datos para leer desde un conector el servidor debe devolver el control al bucle de eventos.\n",
    "\n",
    "Un **futuro** es una estructura de datos que representa el resultado del trabajo que aún no se ha completado. El bucle de eventos puede esperar que un objeto Future se configure como hecho, permitiendo que una parte de una aplicación esperar a que otra parte termine un trabajo. Además de futuros, asyncio incluye otras primitivas de concurrencia, tales como cerraduras y semáforos.\n",
    "\n",
    "Una Task es una subclase de Future que sabe cómo envolver y gestionar la ejecución de una co-rutina. Las tareas pueden ser programadas con el bucle de eventos para ejecutarse cuando los recursos que necesitan estén disponibles, y para producir un resultado que pueda ser consumido por otras co-rutinas."
   ]
  }
 ],
 "metadata": {
  "kernelspec": {
   "display_name": "Python 3",
   "language": "python",
   "name": "python3"
  },
  "language_info": {
   "codemirror_mode": {
    "name": "ipython",
    "version": 3
   },
   "file_extension": ".py",
   "mimetype": "text/x-python",
   "name": "python",
   "nbconvert_exporter": "python",
   "pygments_lexer": "ipython3",
   "version": "3.8.6"
  }
 },
 "nbformat": 4,
 "nbformat_minor": 4
}
