{
 "cells": [
  {
   "cell_type": "markdown",
   "metadata": {},
   "source": [
    "# Event Loop\n",
    "\n",
    "El bucle de eventos (*event loop*) es el núcleo de cada aplicación asyncio. Los bucles de eventos ejecutan tareas asíncronas y llamadas de retorno, realizan operaciones de E/S de red y ejecutan subprocesos.\n",
    "\n",
    "Los desarrolladores de aplicaciones normalmente deberían usar las funciones asyncio de alto nivel, como: asyncio.run(), y rara vez deberían necesitar hacer referencia al objeto de bucle o llamar a sus métodos. \n",
    "\n",
    "## Funciones importantes\n",
    "Las siguientes funciones de bajo nivel se pueden utilizar para obtener, establecer o crear un bucle de eventos:\n",
    "\n",
    "    * asyncio.get_running_loop(): Retorna el bucle de eventos en ejecución.\n",
    "    * asyncio.get_event_loop(): Obtiene bucle de eventos actual.\n",
    "    * asyncio.set_event_loop(): Setea un bucle de evento.\n",
    "    * asyncio.new_event_loop(): crea un bucle de evento.\n",
    "    \n",
    "## Comenzar y parar bucles\n",
    "\n",
    "    * loop.run_until_complete(): Se ejecuta hasta que Future se haya completado.\n",
    "    * loop.run_forever(): Ejecutar el bucle hasta que se llama la función stop()\n",
    "    * loop.stop(): frena la ejecución de un bucle.\n",
    "    * loop.close(): cierra un loop. El bucle no debe estar en ejecución cuando se llama a esta función.\n",
    "    * loop.is_running(): consulta si es que está ejecutandose.\n",
    "    * loop.is_closed(): consulta si el bucle esta cerrado.\n",
    "    \n",
    "## llamadas a corrutina\n",
    "\n",
    "    * loop.call_soon(): Las llamadas son realizadas en el orden en el que fueron realizadas. Cada llamada se raliza una sola vez.\n",
    "\n",
    "\n",
    "## Planificando llamadas\n",
    "\n",
    "    * loop.call_later(delay): Se planfica la llamada a la corrutina en *delay* segundos.\n",
    "    * loop.call_at(when, callback): Planifica *callback* para ser ejecutada en una marca de tiempo absoluta *when* (un entero o un flotante), usando la misma referencia de tiempo que `loop.time()`. El comportamiento de este método es el mismo que call_later().\n",
    "    * loop.time(): Retorna el tiempo actual.\n",
    "\n",
    "\n",
    "## Crear tareas y futuros\n",
    "\n",
    "    * loop.create_future(): Crea un objeto asyncio.Future\n",
    "    * loop.create_task(): Crea un objeto asyncio.Task.\n",
    "    \n",
    "    \n"
   ]
  }
 ],
 "metadata": {
  "kernelspec": {
   "display_name": "Python 3",
   "language": "python",
   "name": "python3"
  },
  "language_info": {
   "codemirror_mode": {
    "name": "ipython",
    "version": 3
   },
   "file_extension": ".py",
   "mimetype": "text/x-python",
   "name": "python",
   "nbconvert_exporter": "python",
   "pygments_lexer": "ipython3",
   "version": "3.8.5"
  }
 },
 "nbformat": 4,
 "nbformat_minor": 4
}
