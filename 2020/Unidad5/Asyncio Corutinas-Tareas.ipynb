{
 "cells": [
  {
   "cell_type": "markdown",
   "metadata": {},
   "source": [
    "# Asyncio\n",
    "\n",
    "El módulo asyncio proporciona herramientas para construir aplicaciones concurrentes que utilizan co-rutinas.\n",
    "\n",
    "Recordando el módulo *threading* implementa concurrencia a través de hilos de aplicación, por el otro lado *multiprocessing* implementa la concurrencia usando procesos del sistema. *Asyncio* utiliza un enfoque de un solo hilo y un solo proceso que están dentro de una aplicación, en algún momento estos procesos necesitan leer o escribir datos, y que bloquearían a la aplicación si no se utiliza Asyncio. *Asyncio* también permite crear:\n",
    "\n",
    "* programas que se ejecuten en un futuro específico\n",
    "* brinda la posiblidad de que una co-rutina se ejecute después de otra\n",
    "* manejar señales del sistema\n",
    "* reconocer otros eventos.\n",
    "\n",
    "La mayoría de los programas que usan otros modelos de concurrencia, se escriben de manera lineal y se deja la gestión de los procesos y el tiempo de ejecución al lenguaje de programación o al sistema operativo. `Asyncio` requiere que el código de la aplicación maneje explicitamente los cambios de contexto.\n",
    "\n",
    "`Asyncio` brinda un bucle de eventos, para registrar la pieza del código a  ejecutar. Por ejemplo, un servidor en red abre los conectores y luego los registra para recibir avisos cuando eventos ocurren en ellos. El bucle de eventos alerta al código del servidor cuando hay una nueva conexión entrante o cuando hay datos para leer. Se espera que el código de la aplicación ceda el control nuevamente después de un corto período de tiempo cuando no se puede hacer más trabajo en el contexto actual. Por ejemplo, si no hay más datos para leer desde un conector el servidor debe devolver el control al bucle de eventos.\n",
    "\n",
    "Un **Futuro** es una estructura de datos que representa el resultado del trabajo que aún no se ha completado. El bucle de eventos puede esperar que un objeto *Future* se configure como hecho, permitiendo que una parte de una aplicación esperar a que otra parte termine un trabajo.\n",
    "\n",
    "Una **Task** es una subclase de Future que sabe cómo envolver y gestionar la ejecución de una co-rutina. Las tareas pueden ser programadas con el bucle de eventos para ejecutarse cuando los recursos que necesitan estén disponibles, y para producir un resultado que pueda ser consumido por otras co-rutinas.\n",
    "\n"
   ]
  },
  {
   "cell_type": "markdown",
   "metadata": {},
   "source": [
    "## Awaitable\n",
    "Decimos que es un objeto \"esperable\" o awaitable si se puede utilizar la expresión `await`.\n",
    "Hay tres objetos esperables: corrutinas, tareas, y futuros.\n",
    "\n",
    "## co-rutinas"
   ]
  },
  {
   "cell_type": "code",
   "execution_count": 9,
   "metadata": {},
   "outputs": [
    {
     "data": {
      "text/plain": [
       "<coroutine object main at 0x7fad903334c0>"
      ]
     },
     "execution_count": 9,
     "metadata": {},
     "output_type": "execute_result"
    }
   ],
   "source": [
    "import asyncio\n",
    "\n",
    "async def main():\n",
    "    print('Hello ...')\n",
    "    await asyncio.sleep(1)\n",
    "    print('... World!')\n",
    "\n",
    "# asyncio.run(main())\n",
    "main()"
   ]
  },
  {
   "cell_type": "markdown",
   "metadata": {},
   "source": [
    "Tenemos 3 formas para ejecutar una corrutina, asyncio proporciona tres mecanismos principales:\n",
    "\n",
    "* La función asyncio.run() para ejecutar la función de un punto de entrada de nivel superior \"main()\".\n",
    "* Esperando en una corrutina. "
   ]
  },
  {
   "cell_type": "code",
   "execution_count": 6,
   "metadata": {},
   "outputs": [],
   "source": [
    "import asyncio\n",
    "import time\n",
    "\n",
    "async def say_after(delay, what):\n",
    "    await asyncio.sleep(delay)\n",
    "    print(what)\n",
    "\n",
    "async def main():\n",
    "    print(f\"started at {time.strftime('%X')}\")\n",
    "\n",
    "    await say_after(1, 'hello')\n",
    "    await say_after(2, 'world')\n",
    "\n",
    "    print(f\"finished at {time.strftime('%X')}\")\n",
    "\n",
    "# asyncio.run(main())"
   ]
  },
  {
   "cell_type": "markdown",
   "metadata": {},
   "source": [
    "## Tasks\n",
    "La función `asyncio.create_task()` para ejecutar corrutinas concurrentemente como asyncio Tasks. Si name no es `None`, se establece como el nombre de la tarea mediante Task.set_name().\n",
    "\n",
    "La tarea se ejecuta en el bucle retornado por get_running_loop(), `RuntimeError` se genera si no hay ningún bucle en ejecución en el subproceso actual."
   ]
  },
  {
   "cell_type": "code",
   "execution_count": 7,
   "metadata": {},
   "outputs": [],
   "source": [
    "async def main():\n",
    "    task1 = asyncio.create_task(\n",
    "        say_after(1, 'hello'))\n",
    "\n",
    "    task2 = asyncio.create_task(\n",
    "        say_after(2, 'world'))\n",
    "\n",
    "    print(f\"started at {time.strftime('%X')}\")\n",
    "\n",
    "    await task1\n",
    "    await task2\n",
    "\n",
    "    print(f\"finished at {time.strftime('%X')}\")\n",
    "\n",
    "# asyncio.run(main())"
   ]
  },
  {
   "cell_type": "code",
   "execution_count": 2,
   "metadata": {},
   "outputs": [],
   "source": [
    "import asyncio\n",
    "\n",
    "async def cancel_me():\n",
    "    print('cancel_me(): before sleep')\n",
    "\n",
    "    try:\n",
    "        # Wait for 1 hour\n",
    "        await asyncio.sleep(3600)\n",
    "    except asyncio.CancelledError:\n",
    "        print('cancel_me(): cancel sleep')\n",
    "        raise\n",
    "    finally:\n",
    "        print('cancel_me(): after sleep')\n",
    "\n",
    "async def main():\n",
    "    # Create a \"cancel_me\" Task\n",
    "    task = asyncio.create_task(cancel_me())\n",
    "\n",
    "    # Wait for 1 second\n",
    "    await asyncio.sleep(1)\n",
    "\n",
    "    task.cancel()\n",
    "    try:\n",
    "        await task\n",
    "    except asyncio.CancelledError:\n",
    "        print(\"main(): cancel_me is cancelled now\")\n",
    "\n",
    "# asyncio.run(main())"
   ]
  },
  {
   "cell_type": "markdown",
   "metadata": {},
   "source": [
    "## Futures\n",
    "\n",
    "Un Future es un objeto esperable especial de bajo-nivel que representa un resultado eventual de una operación asíncrona.\n",
    "\n",
    "Cuando un objeto Future es esperado significa que la corrutina esperará hasta que el Future se resuelva en algún otro lugar.\n",
    "\n",
    "Los objetos Future de asyncio son necesarios para permitir que el código basado en retro llamada se use con async/await.\n",
    "\n",
    "Normalmente, no es necesario crear objetos Future en el código de nivel de aplicación.\n",
    "\n",
    "Los objetos Future, a veces expuestos por bibliotecas y algunas API de asyncio, pueden ser esperados."
   ]
  },
  {
   "cell_type": "code",
   "execution_count": 10,
   "metadata": {},
   "outputs": [],
   "source": [
    "async def main():\n",
    "    await function_that_returns_a_future_object()\n",
    "\n",
    "    # this is also valid:\n",
    "    await asyncio.gather(\n",
    "        function_that_returns_a_future_object(),\n",
    "        some_python_coroutine()\n",
    "    )"
   ]
  },
  {
   "cell_type": "markdown",
   "metadata": {},
   "source": [
    "## Sleep\n",
    "\n",
    "Bloquea por *delay* segundos.\n",
    "\n",
    "`sleep()` siempre suspende la tarea actual, permitiendo que se ejecuten otras tareas.\n"
   ]
  },
  {
   "cell_type": "code",
   "execution_count": 11,
   "metadata": {},
   "outputs": [],
   "source": [
    "import asyncio\n",
    "import datetime\n",
    "\n",
    "async def display_date():\n",
    "    loop = asyncio.get_running_loop()\n",
    "    end_time = loop.time() + 5.0\n",
    "    while True:\n",
    "        print(datetime.datetime.now())\n",
    "        if (loop.time() + 1.0) >= end_time:\n",
    "            break\n",
    "        await asyncio.sleep(1)\n",
    "\n",
    "# asyncio.run(display_date())\n"
   ]
  },
  {
   "cell_type": "markdown",
   "metadata": {},
   "source": [
    "# Ejecutando tareas concurrentemente\n",
    "Esto se realiza utilizando `asyncio.gather(*aws, loop=None, return_exceptions=False)` Cuando todos los awaitables o esperables se completan, el resultado es una lista de valores retornados por las tareas.\n",
    "\n",
    "*aws* es una corrutina.\n",
    "\n",
    "Si *return_exceptions* es False (valor predeterminado), la primera excepción provocada se propaga inmediatamente a la tarea que espera en gather(). Otros esperables en la secuencia aws no se cancelarán y continuarán ejecutándose.\n",
    "\n",
    "Si *return_exceptions* es True, las excepciones se tratan igual que los resultados correctos y se agregan en la lista de resultados.\n",
    "\n",
    "Si gather() es cancelado, todos los esperables enviados (que aún no se han completado) también se cancelan."
   ]
  },
  {
   "cell_type": "code",
   "execution_count": 12,
   "metadata": {},
   "outputs": [],
   "source": [
    "import asyncio\n",
    "\n",
    "async def factorial(name, number):\n",
    "    f = 1\n",
    "    for i in range(2, number + 1):\n",
    "        print(f\"Task {name}: Compute factorial({i})...\")\n",
    "        await asyncio.sleep(1)\n",
    "        f *= i\n",
    "    print(f\"Task {name}: factorial({number}) = {f}\")\n",
    "\n",
    "async def main():\n",
    "    # Schedule three calls *concurrently*:\n",
    "    await asyncio.gather(\n",
    "        factorial(\"A\", 2),\n",
    "        factorial(\"B\", 3),\n",
    "        factorial(\"C\", 4),\n",
    "    )\n",
    "\n",
    "# asyncio.run(main())"
   ]
  },
  {
   "cell_type": "markdown",
   "metadata": {},
   "source": [
    "# wait_for\n",
    "\n",
    "`asyncio.wait_for(aw, timeout, *, loop=None)` se utiliza para darle un \"tiempo\" para que se ejecute la corrutina.\n",
    "\n",
    "*timeout* puede ser None o punto flotante o un número entero de segundos a esperar. Si *timeout* es None, se bloquea hasta que futuro se complete.\n",
    "\n",
    "Si se produce un agotamiento de tiempo, cancela la tarea y genera `asyncio.TimeoutError`.\n",
    "\n",
    "Para evitar la cancelación de la tarea se la puede envolver en un `shield()`."
   ]
  },
  {
   "cell_type": "code",
   "execution_count": 14,
   "metadata": {},
   "outputs": [],
   "source": [
    "async def eternity():\n",
    "    # Sleep for one hour\n",
    "    await asyncio.sleep(3600)\n",
    "    print('yay!')\n",
    "\n",
    "async def main():\n",
    "    # Wait for at most 1 second\n",
    "    try:\n",
    "        await asyncio.wait_for(eternity(), timeout=1.0)\n",
    "    except asyncio.TimeoutError:\n",
    "        print('timeout!')\n",
    "\n",
    "# asyncio.run(main())\n"
   ]
  },
  {
   "cell_type": "markdown",
   "metadata": {},
   "source": [
    "# wait\n",
    "Para ejecutar objetos awaitables (*aws*) y bloquea hasta que la condición especifiacada en el *return_when* `coroutine asyncio.wait(aws, *, loop=None, timeout=None, return_when=ALL_COMPLETED)`.\n",
    "\n",
    "`wait()` retorna dos conjuntos  de tareas/futuros `(done, pending)`\n",
    "\n",
    "```\n",
    "done, pending = await asyncio.wait(aws)\n",
    "```\n",
    "\n",
    "Tenga en cuenta que esta función no lanza `asyncio.TimeoutError`. Los Futuros o Tareas que no terminan cuando se agota el tiempo simplemente se retornan en el segundo conjunto.\n",
    "\n",
    "A diferencia de wait_for(), wait() no cancela los Futuros cuando se produce un agotamiento de tiempo.\n"
   ]
  },
  {
   "attachments": {},
   "cell_type": "markdown",
   "metadata": {},
   "source": []
  }
 ],
 "metadata": {
  "kernelspec": {
   "display_name": "Python 3",
   "language": "python",
   "name": "python3"
  },
  "language_info": {
   "codemirror_mode": {
    "name": "ipython",
    "version": 3
   },
   "file_extension": ".py",
   "mimetype": "text/x-python",
   "name": "python",
   "nbconvert_exporter": "python",
   "pygments_lexer": "ipython3",
   "version": "3.8.6"
  }
 },
 "nbformat": 4,
 "nbformat_minor": 4
}
