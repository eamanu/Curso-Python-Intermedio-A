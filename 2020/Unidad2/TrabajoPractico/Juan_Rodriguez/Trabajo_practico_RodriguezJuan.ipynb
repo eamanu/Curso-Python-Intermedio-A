{
 "cells": [
  {
   "cell_type": "markdown",
   "metadata": {},
   "source": [
    "# Trabajo practico - Unidad 2\n",
    " --------\n",
    " "
   ]
  },
  {
   "cell_type": "markdown",
   "metadata": {},
   "source": [
    "Ejercicio 1:"
   ]
  },
  {
   "cell_type": "code",
   "execution_count": 6,
   "metadata": {},
   "outputs": [
    {
     "name": "stdout",
     "output_type": "stream",
     "text": [
      "Ingrese el limite superior de los multiplos que quiere obtener: 50\n",
      "Entre 0 y 50 encontramos los siguientes numeros multiplo de 3: \n",
      "  [0, 3, 6, 9, 12, 15, 18, 21, 24, 27, 30, 33, 36, 39, 42, 45, 48]\n",
      "Entre 0 y 50 encontramos los siguientes numeros multiplo de 5: \n",
      "  [0, 5, 10, 15, 20, 25, 30, 35, 40, 45]\n"
     ]
    }
   ],
   "source": [
    "x=int(input(\"Ingrese el limite superior de los multiplos que quiere obtener: \"))\n",
    "lista3 =[]\n",
    "lista5 =[]\n",
    "\n",
    "def multiplos(x):\n",
    "    for i in range(x):\n",
    "        if not i%3:\n",
    "            lista3.append(i)\n",
    "    print(f'Entre 0 y {x} encontramos los siguientes numeros multiplo de 3: \\n ', lista3 )\n",
    "\n",
    "    for i in range(x):\n",
    "        if not i%5:\n",
    "            lista5.append(i)\n",
    "    print(f'Entre 0 y {x} encontramos los siguientes numeros multiplo de 5: \\n ', lista5)\n",
    "\n",
    "multiplos(x)"
   ]
  },
  {
   "cell_type": "markdown",
   "metadata": {},
   "source": [
    "---------------\n",
    "Ejercicio 2:"
   ]
  },
  {
   "cell_type": "code",
   "execution_count": 38,
   "metadata": {},
   "outputs": [
    {
     "name": "stdout",
     "output_type": "stream",
     "text": [
      "Ingrese el limite superior de los multiplos que quiere obtener: 180\n",
      "Los numeros fibonacci en el rango de 0 a 180 son: [0, 1, 1, 2, 3, 5, 8, 13, 21, 34, 55, 89, 144] \n",
      "De los cuales [0, 2, 8, 34, 144] son pares.\n",
      "Su suma es 188\n",
      "[0, 1, 1, 2, 3, 5, 8, 13, 21, 34, 55, 89, 144]\n"
     ]
    }
   ],
   "source": [
    "x=int(input(\"Ingrese el limite superior deL Fibonacci que quiere obtener: \"))\n",
    "\n",
    "listafibo =[]\n",
    "listapar = []\n",
    "\n",
    "def fibonacci(x):\n",
    "    fibo=0\n",
    "    aux1=0\n",
    "    aux2=1\n",
    "        \n",
    "    while fibo <= x:\n",
    "        fibo= aux1 + aux2\n",
    "        aux1 = aux2\n",
    "        aux2 = fibo\n",
    "        listafibo.append(fibo)\n",
    "    \n",
    "    listafibo.insert(0, 1)\n",
    "    listafibo.insert(0, 0)\n",
    "    listafibo.pop()   \n",
    "    return listafibo\n",
    "\n",
    "def suma():\n",
    "    suma=0\n",
    "    listafibo = fibonacci(x)\n",
    "    for i in range(len(listafibo)):\n",
    "        if not listafibo[i]%2:\n",
    "            suma = suma + listafibo[i]\n",
    "            listapar.append(listafibo[i])\n",
    "    print(f'Los numeros fibonacci en el rango de 0 a {x} son: {listafibo}\n",
    "    \\nDe los cuales {listapar} son pares.\\nSu suma es {suma}')\n",
    "\n",
    "suma()"
   ]
  },
  {
   "cell_type": "markdown",
   "metadata": {},
   "source": [
    "-------------------------\n",
    "Ejercicio 3:"
   ]
  },
  {
   "cell_type": "code",
   "execution_count": 48,
   "metadata": {},
   "outputs": [
    {
     "name": "stdout",
     "output_type": "stream",
     "text": [
      "Ingrese el limite superior de los numeros naturales que quiere operar: 10\n",
      "El cuadrado de sumas es:  3025\n",
      "La suma de los cuadrados es:  385\n"
     ]
    }
   ],
   "source": [
    "x=int(input(\"Ingrese el limite superior de los numeros naturales que quiere operar: \"))\n",
    "suma =0\n",
    "cuadradodesumas = 0\n",
    "sumadecuadrados = 0\n",
    "\n",
    "for i in range(x+1):\n",
    "    suma = suma + i\n",
    "    cuadradodesumas = suma ** 2\n",
    "    sumadecuadrados = cuadradosuma + (i ** 2)\n",
    "\n",
    "print(\"El cuadrado de sumas es: \", cuadradodesumas)\n",
    "print(\"La suma de los cuadrados es: \", sumadecuadrados)\n",
    "\n",
    "def diferencia():\n",
    "    return cuadradodesumas - sumadecuadrados\n"
   ]
  },
  {
   "cell_type": "code",
   "execution_count": 49,
   "metadata": {},
   "outputs": [
    {
     "name": "stdout",
     "output_type": "stream",
     "text": [
      "La diferencia es:  2640\n"
     ]
    }
   ],
   "source": [
    "print(\"La diferencia es: \",diferencia())\n",
    "\n",
    "\n"
   ]
  },
  {
   "cell_type": "markdown",
   "metadata": {},
   "source": [
    "---------------------\n",
    "Ejercicio 4:"
   ]
  },
  {
   "cell_type": "code",
   "execution_count": null,
   "metadata": {},
   "outputs": [],
   "source": []
  }
 ],
 "metadata": {
  "kernelspec": {
   "display_name": "Python 3",
   "language": "python",
   "name": "python3"
  },
  "language_info": {
   "codemirror_mode": {
    "name": "ipython",
    "version": 3
   },
   "file_extension": ".py",
   "mimetype": "text/x-python",
   "name": "python",
   "nbconvert_exporter": "python",
   "pygments_lexer": "ipython3",
   "version": "3.8.3"
  }
 },
 "nbformat": 4,
 "nbformat_minor": 4
}
