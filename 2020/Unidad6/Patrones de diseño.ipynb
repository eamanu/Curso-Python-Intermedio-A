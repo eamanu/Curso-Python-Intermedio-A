{
 "cells": [
  {
   "cell_type": "markdown",
   "metadata": {},
   "source": [
    "# Patrones de diseño con Python\n",
    "\n",
    "Los patrones de diseño son técnicas para resolver problemas comunes en el desarrollo de software. Son soluciones a un problema, a problemas de diseño. Un patrón de diseño resulta ser una solución a un problema de diseño.  \n",
    "\n",
    "## Decoradores\n",
    "Patrón de diseño que agrega dinámicamente un comportamiento a un objeto. Es decir, le cambia el comportamiento. \n"
   ]
  },
  {
   "cell_type": "code",
   "execution_count": 10,
   "metadata": {},
   "outputs": [
    {
     "name": "stdout",
     "output_type": "stream",
     "text": [
      "hola\n"
     ]
    }
   ],
   "source": [
    "# llamada por referencia\n",
    "\n",
    "def func():\n",
    "    print(\"hola\")\n",
    "\n",
    "def func2(xyz):\n",
    "    xyz()\n",
    "    \n",
    "func2(func)"
   ]
  },
  {
   "cell_type": "code",
   "execution_count": 41,
   "metadata": {},
   "outputs": [],
   "source": [
    "def verificar_en_bd_con_mensaje(mensaje):\n",
    "    def verificar_en_bd(func):\n",
    "        def wrapper(*args, **kwargs):\n",
    "            \n",
    "            print(\"Verificando si es deudor\")\n",
    "            print(mensaje)\n",
    "            func(*args, **kwargs)\n",
    "            print(\"fin de la registración\")    \n",
    "\n",
    "        return wrapper\n",
    "    return verificar_en_bd"
   ]
  },
  {
   "cell_type": "code",
   "execution_count": 42,
   "metadata": {},
   "outputs": [],
   "source": [
    "# func = verificar_en_bd(registrar)\n",
    "\n",
    "@verificar_en_bd_con_mensaje('Este es un mensaje')\n",
    "def registrar(nombre, apellido):\n",
    "        print(f\"se regristro {nombre} {apellido}\")\n"
   ]
  },
  {
   "cell_type": "code",
   "execution_count": 43,
   "metadata": {},
   "outputs": [
    {
     "name": "stdout",
     "output_type": "stream",
     "text": [
      "Verificando si es deudor\n",
      "Este es un mensaje\n",
      "se regristro nombre apellido\n",
      "fin de la registración\n"
     ]
    }
   ],
   "source": [
    "registrar(\"nombre\", \"apellido\")"
   ]
  },
  {
   "cell_type": "code",
   "execution_count": null,
   "metadata": {},
   "outputs": [],
   "source": [
    "# todo poner wraps"
   ]
  },
  {
   "cell_type": "markdown",
   "metadata": {},
   "source": [
    "## Abstract Factory\n",
    "Es un patrón de diseño creacional que resuelve el problema de crear familias enteras de productos sin especificar sus clases concretas.\n",
    "\n",
    "Define una interfaz para crear cualquier clase/objeto. El código cliente invoca los métodos de creación de un objeto de \"fábrica\" en lugar de crear los productos directamente con una llamada `__new__` .\n"
   ]
  },
  {
   "cell_type": "code",
   "execution_count": 61,
   "metadata": {},
   "outputs": [
    {
     "name": "stdout",
     "output_type": "stream",
     "text": [
      "hola\n"
     ]
    }
   ],
   "source": [
    "from abc import ABC, abstractmethod \n",
    "\n",
    "class AbstractFactory(ABC):\n",
    "\n",
    "    @abstractmethod\n",
    "    def create_object(self, name_object):\n",
    "        pass\n",
    "    \n",
    "    @abstractmethod\n",
    "    def create_object2(self, name_object):\n",
    "        pass\n",
    "\n",
    "class Factory(AbstractFactory):\n",
    "    def create_object(self, name_object):\n",
    "        # if algo. retornar algun objeto determinado\n",
    "        #    return ProductoA\n",
    "        # else:\n",
    "        #     return ProductoB\n",
    "        print(\"hola\")\n",
    "    \n",
    "    def create_object2(self, name_object):\n",
    "        # if algo. retornar algun objeto determinado\n",
    "        print(\"hola\")\n",
    "\n",
    "factory = Factory()\n",
    "factory.create_object(\"ProductoA\")"
   ]
  },
  {
   "cell_type": "markdown",
   "metadata": {},
   "source": [
    "## Factory Method\n",
    "Proporciona una interfaz para la creación de objetos en una superclase, mientras permite a las subclases alterar el tipo de objetos que se crearán"
   ]
  },
  {
   "cell_type": "code",
   "execution_count": 4,
   "metadata": {},
   "outputs": [],
   "source": [
    "# ejemplo"
   ]
  },
  {
   "cell_type": "markdown",
   "metadata": {},
   "source": [
    "## Singleton\n",
    "un patrón de diseño creacional que garantiza que tan solo exista un objeto de su tipo y proporciona un único punto de acceso a él para cualquier otro código.\n",
    "\n",
    "El patrón tiene prácticamente los mismos pros y contras que las variables globales. Rompen con la modularidad del código."
   ]
  },
  {
   "cell_type": "code",
   "execution_count": 47,
   "metadata": {},
   "outputs": [
    {
     "name": "stdout",
     "output_type": "stream",
     "text": [
      "hola\n",
      "holaa!!!\n"
     ]
    }
   ],
   "source": [
    "class Foo:\n",
    "    def __init__(self,name):\n",
    "        print(name)\n",
    "        self.name = name\n",
    "        \n",
    "    def __call__(cls, *args, **kwargs):\n",
    "        print(\"holaa!!!\")\n",
    "\n",
    "foo = Foo(\"hola\")\n",
    "foo() # callable - llamable"
   ]
  },
  {
   "cell_type": "code",
   "execution_count": 51,
   "metadata": {},
   "outputs": [
    {
     "name": "stdout",
     "output_type": "stream",
     "text": [
      "140364973981408 140364973981408\n",
      "Singleton trabajando!!!\n"
     ]
    }
   ],
   "source": [
    "class SingletonMeta(type):\n",
    "    _instances = {}\n",
    "\n",
    "    def __call__(cls, *args, **kwargs):\n",
    "        if cls not in cls._instances:\n",
    "            instance = super().__call__(*args, **kwargs)\n",
    "            cls._instances[cls] = instance\n",
    "        return cls._instances[cls]\n",
    "\n",
    "\n",
    "class Singleton(metaclass=SingletonMeta):\n",
    "    def logica(self):\n",
    "        pass\n",
    "\n",
    "\n",
    "s1 = Singleton()\n",
    "s2 = Singleton()\n",
    "\n",
    "print(id(s1), id(s2))\n",
    "if id(s1) == id(s2):\n",
    "    print(\"Singleton trabajando!!!\")\n",
    "else:\n",
    "    print(\"Singleton failed\")"
   ]
  },
  {
   "cell_type": "markdown",
   "metadata": {},
   "source": [
    "## Prototipo\n",
    "Permite copiar objetos existentes sin que el código dependa de sus clases. Todas las clases prototipo deben tener una interfaz común que haga posible copiar objetos incluso si sus clases concretas son desconocidas. Los objetos prototipo pueden producir copias completas, ya que los objetos de la misma clase pueden acceder a los campos privados de los demás."
   ]
  },
  {
   "cell_type": "code",
   "execution_count": 52,
   "metadata": {},
   "outputs": [
    {
     "name": "stdout",
     "output_type": "stream",
     "text": [
      "Type1: 1\n",
      "Type1: 2\n",
      "Type2: 1\n",
      "Type2: 2\n"
     ]
    }
   ],
   "source": [
    "import copy\n",
    "\n",
    "\n",
    "class Prototype:\n",
    "\n",
    "    _type = None\n",
    "    _value = None\n",
    "\n",
    "    def clone(self):\n",
    "        pass\n",
    "    \n",
    "    def getType(self):\n",
    "        return self._type\n",
    "\n",
    "    def getValue(self):\n",
    "        return self._value\n",
    "\n",
    "    \n",
    "class Type1(Prototype):\n",
    "    def __init__(self, number):\n",
    "        self._type = \"Type1\"\n",
    "        self._value = number\n",
    "\n",
    "    def clone(self):\n",
    "        return copy.copy(self)\n",
    "\n",
    "    \n",
    "class Type2(Prototype):\n",
    "    def __init__(self, number):\n",
    "        self._type = \"Type2\"\n",
    "        self._value = number\n",
    "\n",
    "    def clone(self):\n",
    "        return copy.copy(self)\n",
    "    \n",
    "    \n",
    "class ObjectFactory:\n",
    "\n",
    "    __type1Value1 = None\n",
    "    __type1Value2 = None\n",
    "    __type2Value1 = None\n",
    "    __type2Value2 = None\n",
    "\n",
    "    @staticmethod\n",
    "    def initialize():\n",
    "        ObjectFactory.__type1Value1 = Type1(1)\n",
    "        ObjectFactory.__type1Value2 = Type1(2)\n",
    "        ObjectFactory.__type2Value1 = Type2(1)\n",
    "        ObjectFactory.__type2Value2 = Type2(2)\n",
    "\n",
    "    @staticmethod\n",
    "    def getType1Value1():\n",
    "        return ObjectFactory.__type1Value1.clone()\n",
    "\n",
    "    @staticmethod\n",
    "    def getType1Value2():\n",
    "        return ObjectFactory.__type1Value2.clone()\n",
    "\n",
    "    @staticmethod\n",
    "    def getType2Value1():\n",
    "        return ObjectFactory.__type2Value1.clone()\n",
    "\n",
    "    @staticmethod\n",
    "    def getType2Value2():\n",
    "        return ObjectFactory.__type2Value2.clone()\n",
    "# --- \n",
    "def main():\n",
    "    ObjectFactory.initialize()\n",
    "\n",
    "    instance = ObjectFactory.getType1Value1()\n",
    "    print(\"%s: %s\" % (instance.getType(), instance.getValue()))\n",
    "   \n",
    "    instance = ObjectFactory.getType1Value2()\n",
    "    print(\"%s: %s\" % (instance.getType(), instance.getValue()))\n",
    "   \n",
    "    instance = ObjectFactory.getType2Value1()\n",
    "    print(\"%s: %s\" % (instance.getType(), instance.getValue()))\n",
    "   \n",
    "    instance = ObjectFactory.getType2Value2()\n",
    "    print(\"%s: %s\" % (instance.getType(), instance.getValue()))\n",
    "\n",
    "\n",
    "main()"
   ]
  }
 ],
 "metadata": {
  "kernelspec": {
   "display_name": "Python 3",
   "language": "python",
   "name": "python3"
  },
  "language_info": {
   "codemirror_mode": {
    "name": "ipython",
    "version": 3
   },
   "file_extension": ".py",
   "mimetype": "text/x-python",
   "name": "python",
   "nbconvert_exporter": "python",
   "pygments_lexer": "ipython3",
   "version": "3.8.6"
  }
 },
 "nbformat": 4,
 "nbformat_minor": 4
}
